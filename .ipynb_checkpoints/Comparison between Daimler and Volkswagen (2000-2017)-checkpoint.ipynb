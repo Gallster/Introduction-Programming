{
 "cells": [
  {
   "cell_type": "markdown",
   "metadata": {},
   "source": [
    "# Comparison between Volkswagen and Daimler\n",
    "The purpose of this project will be to compare the performance of Volkswagen AG and Daimler AG. To make the comparison we will look at three different key performance measurements: Ebit Margin, Return on Assets, and Return on Equity. The data that has been used was gathered from Whartons Research Data Services [Click here](https://wrds-web.wharton.upenn.edu/wrds//ds/compd/gfunda/index.cfm?queryID=980840). \n",
    "\n",
    "The results (graphs) will be found in the folder **Project Results** which is available in the repository. "
   ]
  },
  {
   "cell_type": "code",
   "execution_count": null,
   "metadata": {},
   "outputs": [],
   "source": [
    "import pandas as pd #will be used for data-handling\n",
    "import matplotlib.pyplot as plt #will be used for plotting\n",
    "\n",
    "\n",
    "#import data from Wharton into a variable \n",
    "car_data = pd.read_excel('data_daimler_volkswagen.xlsx', index_col = 5)\n",
    "\n",
    "#This is what the top of our data file looks like. \n",
    "car_data.head()\n",
    "#We got some columns that we do not nead, so the next step will be to clean it up.\n"
   ]
  },
  {
   "cell_type": "code",
   "execution_count": null,
   "metadata": {},
   "outputs": [],
   "source": [
    "#The number of the columns we do not want is indexed by the numbers in \"loop_list\"\n",
    "loop_list = [0,1,2,3,4,5,11,13,14]\n",
    "for i in car_data.columns[loop_list]:\n",
    "    del car_data[i]\n",
    "\n",
    "#We will also change the name of the columns so that the dataframe will be easier to work with. \n",
    "#To do this we use a dictionary\n",
    "car_data = car_data.rename({\"Data Year - Fiscal\": \"Fiscal Year\",'Assets - Total': 'Total Assets', 'Earnings Before Interest': 'EBIT', \n",
    "                            'Income Before Extraordinary Items': 'Income', 'Revenue - Total': 'Total Revenue', 'Stockholders Equity - Parent': \n",
    "                            'Stockholders Equity'}, axis='columns')\n",
    "\n",
    "#The data now looks like this\n",
    "car_data.head()\n"
   ]
  },
  {
   "cell_type": "code",
   "execution_count": null,
   "metadata": {},
   "outputs": [],
   "source": [
    "#Split the data \n",
    "daimler_data = car_data[0:18]\n",
    "volkswagen_data = car_data[18:36]\n",
    "\n",
    "#Becuase of the method of splitting the dataframe there might be some issues with the indexing. \n",
    "#But, as our use will not have any problem with the indexing we remove the warning message which otherwise pops up.\n",
    "pd.options.mode.chained_assignment = None \n",
    "\n",
    "#Now we need to calculate the key preformance measurement. \n",
    "#We create new columns for the numbers\n",
    "daimler_data[\"EBIT Margin\"] = daimler_data[\"EBIT\"]/daimler_data[\"Total Revenue\"]\n",
    "daimler_data[\"ROA\"] = daimler_data[\"Income\"]/daimler_data[\"Total Assets\"]\n",
    "daimler_data[\"ROE\"] = daimler_data[\"Income\"]/daimler_data[\"Stockholders Equity\"]\n",
    "\n",
    "#now we do the same for volkswagen\n",
    "volkswagen_data['EBIT Margin'] = volkswagen_data['EBIT'] / volkswagen_data['Total Revenue']\n",
    "volkswagen_data['ROA'] = volkswagen_data['Income'] / volkswagen_data['Total Assets']\n",
    "volkswagen_data['ROE'] = volkswagen_data['Income'] / volkswagen_data['Stockholders Equity']\n",
    "\n",
    "#we have two different sets of the dataframe now so we can index our time series properly\n",
    "#we do this by selecting a period range for the two data sets\n",
    "dates_daimler = pd.period_range(start='2000', end='2017', freq='Y', name='Yearly Frequence')\n",
    "daimler_data.index = dates_daimler\n",
    "\n",
    "dates_volkswagen = pd.period_range(start='2000', end='2017', freq='Y', name='Yearly Frequence')\n",
    "volkswagen_data.index = dates_volkswagen"
   ]
  },
  {
   "cell_type": "code",
   "execution_count": null,
   "metadata": {
    "scrolled": true
   },
   "outputs": [],
   "source": [
    "#Now we want to use our two dataframes to create the graphs for the key performance measurements \n",
    "plt.style.use(\"ggplot\")\n",
    "\n",
    "def plotting(Value): \n",
    "    fig = plt.figure()\n",
    "    daimler_data[Value].plot(label = \"Daimler\", legend = True)\n",
    "    volkswagen_data[Value].plot(label = 'Volkswagen', legend = True)\n",
    "    plt.ylabel(Value)\n",
    "    plt.rcParams['figure.figsize'] = [15,8]\n",
    "    plt.legend(loc=1, prop={'size': 15})\n",
    "    plt.title(\"Annual \" + Value)\n",
    "    fig.savefig(\"Project Results/\" + Value + \".png\") #Saving the plots to Project Results\n",
    "\n",
    "#Now when we have our function we will do a loop to create our graphs and then save them in the folder Project Results\n",
    "a = [\"EBIT Margin\",\"ROA\",\"ROE\"]\n",
    "for i in a:\n",
    "    plotting(i)\n",
    "    "
   ]
  },
  {
   "cell_type": "code",
   "execution_count": null,
   "metadata": {},
   "outputs": [],
   "source": [
    "#Now we would also like to see the averages for the different companies\n",
    "\n",
    "for i in a:\n",
    "    volkswagen_mean = volkswagen_data[a].mean()\n",
    "    daimler_mean = daimler_data[a].mean()\n",
    "\n",
    "n_groups = 3 #Three different measurements\n",
    "fig = plt.subplots()\n",
    "index = np.arange(n_groups)\n",
    "bar_width = 0.35\n",
    "opacity = 0.8\n",
    "volkswagen = plt.bar(index, volkswagen_mean, bar_width,\n",
    "                 alpha=opacity,\n",
    "                 color='cornflowerblue',\n",
    "                label = 'Volkswagen')\n",
    " \n",
    "daimler = plt.bar(index + bar_width,daimler_mean , bar_width,\n",
    "                 alpha=opacity,\n",
    "                 color='r',\n",
    "                 label = 'Daimler')\n",
    "plt.rcParams['figure.figsize'] = [15,8]\n",
    "plt.legend()\n",
    "plt.xticks(index + 0.5*bar_width, (a))\n",
    "plt.ylabel(\"Averages\")\n",
    "plt.title(\"Averages of the key performance measurements between 2000 and 2017\")\n",
    "plt.savefig(\"Project Results/BarPlot.png\")\n",
    "plt.show()\n"
   ]
  },
  {
   "cell_type": "markdown",
   "metadata": {},
   "source": [
    "# Results \n",
    "\n",
    "As we can see in the graphs Volkswagen is outperforming Daimler in all the measured areas. If we look at the graphs of the seperate measurements we can see that the companies perfrom differently depending on the period. For example, after the financial crisis in 2008 we can see a dip for both companies. Daimler had a bigger downturn though. "
   ]
  },
  {
   "cell_type": "code",
   "execution_count": null,
   "metadata": {},
   "outputs": [],
   "source": []
  },
  {
   "cell_type": "code",
   "execution_count": null,
   "metadata": {},
   "outputs": [],
   "source": []
  }
 ],
 "metadata": {
  "kernelspec": {
   "display_name": "Python 3",
   "language": "python",
   "name": "python3"
  },
  "language_info": {
   "codemirror_mode": {
    "name": "ipython",
    "version": 3
   },
   "file_extension": ".py",
   "mimetype": "text/x-python",
   "name": "python",
   "nbconvert_exporter": "python",
   "pygments_lexer": "ipython3",
   "version": "3.6.5"
  }
 },
 "nbformat": 4,
 "nbformat_minor": 2
}
